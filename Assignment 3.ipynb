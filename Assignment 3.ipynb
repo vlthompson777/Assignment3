{
 "cells": [
  {
   "cell_type": "code",
   "execution_count": 1,
   "metadata": {},
   "outputs": [
    {
     "name": "stdout",
     "output_type": "stream",
     "text": [
      "2268\n"
     ]
    }
   ],
   "source": [
    "#1.1\n",
    "#declaration of function\n",
    "def myreduce(mylist):\n",
    "    x=1\n",
    "    for i in mylist: #for loop to multiply elements of list together\n",
    "        x = x * i\n",
    "    return(x)\n",
    "\n",
    "list1= [3,7,12,9]  #create list of values\n",
    "y = myreduce(list1)\n",
    "print (y)"
   ]
  },
  {
   "cell_type": "code",
   "execution_count": 4,
   "metadata": {},
   "outputs": [
    {
     "name": "stdout",
     "output_type": "stream",
     "text": [
      "[[False, False, True, True, False]]\n"
     ]
    }
   ],
   "source": [
    "#1.2\n",
    "#declaration of filter function\n",
    "def myfilter(func1,mylist):\n",
    "    templist=[]    #create temporary empty list\n",
    "    for i in mylist:  #for loop to send each item of list through custom function and add to a temporary list\n",
    "        templist.append(func1(i))\n",
    "    return(templist)\n",
    "\n",
    "#declare function to reference in myfilter, returns True on if x between 10-15\n",
    "def customfunc(x):\n",
    "    if x < 10:\n",
    "        return False\n",
    "    elif x > 15:\n",
    "        return False\n",
    "    else:\n",
    "        return True\n",
    "    \n",
    "mylist=[4,20,13,12,22]\n",
    "outputlist=[]\n",
    "outputlist.append(myfilter(customfunc,mylist))\n",
    "print (outputlist)"
   ]
  },
  {
   "cell_type": "code",
   "execution_count": 32,
   "metadata": {},
   "outputs": [
    {
     "name": "stdout",
     "output_type": "stream",
     "text": [
      "['A', 'C', 'A', 'D', 'G', 'I', 'L', 'D']\n",
      "['x', 'xx', 'xxx', 'xxxx', 'y', 'yy', 'yyy', 'yyyy', 'z', 'zz', 'zzz', 'zzzz']\n",
      "['x', 'y', 'z', 'xx', 'yy', 'zz', 'xxx', 'yyy', 'zzz', 'xxxx', 'yyyy', 'zzzz']\n",
      "[[2], [3], [4], [3], [4], [5], [4], [5], [6]]\n",
      "[[2, 3, 4, 5], [3, 4, 5, 6], [4, 5, 6, 7], [5, 6, 7, 8]]\n",
      "[(1, 1), (2, 1), (3, 1), (1, 2), (2, 2), (3, 2), (1, 3), (2, 3), (3, 3)]\n"
     ]
    }
   ],
   "source": [
    "#2\n",
    "newlist=[i for i in 'ACADGILD']\n",
    "print(newlist)\n",
    "\n",
    "newlist2=[ i*x for x in 'xyz' for i in range(1,5)]\n",
    "print(newlist2)\n",
    "\n",
    "newlist3=[i*x for x in range(1,5) for i in 'xyz']\n",
    "print(newlist3)\n",
    "\n",
    "#newlist4=[i+1 for i in range(1,5)]\n",
    "#print(newlist4)\n",
    "\n",
    "newlist5=[[x+y] for y in range(1,4) for x in range(1,4)]\n",
    "print(newlist5)\n",
    "\n",
    "newlist6=[[x+y for x in range (1,5)] for y in range(1,5)]\n",
    "print(newlist6)\n",
    "\n",
    "newlist7=[(x,y) for y in range(1,4) for x in range(1,4)]\n",
    "print(newlist7)"
   ]
  },
  {
   "cell_type": "code",
   "execution_count": 34,
   "metadata": {},
   "outputs": [
    {
     "data": {
      "text/plain": [
       "'strings'"
      ]
     },
     "execution_count": 34,
     "metadata": {},
     "output_type": "execute_result"
    }
   ],
   "source": [
    "#3\n",
    "#function to find the longest word in a list\n",
    "def longest(_list):\n",
    "    #create variables of appropriate type\n",
    "    longest_word=''\n",
    "    target=int()\n",
    "    \n",
    "    for word in _list:\n",
    "        if len(word) > target:\n",
    "            longest_word = word\n",
    "    return longest_word\n",
    "\n",
    "list1 = ['this','is','a','sample','string','of','strings']\n",
    "\n",
    "longest(list1)"
   ]
  },
  {
   "cell_type": "code",
   "execution_count": null,
   "metadata": {},
   "outputs": [],
   "source": []
  }
 ],
 "metadata": {
  "kernelspec": {
   "display_name": "Python 3",
   "language": "python",
   "name": "python3"
  },
  "language_info": {
   "codemirror_mode": {
    "name": "ipython",
    "version": 3
   },
   "file_extension": ".py",
   "mimetype": "text/x-python",
   "name": "python",
   "nbconvert_exporter": "python",
   "pygments_lexer": "ipython3",
   "version": "3.6.4"
  }
 },
 "nbformat": 4,
 "nbformat_minor": 2
}
