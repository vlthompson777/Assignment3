{
 "cells": [
  {
   "cell_type": "code",
   "execution_count": 1,
   "metadata": {},
   "outputs": [
    {
     "name": "stdout",
     "output_type": "stream",
     "text": [
      "2268\n"
     ]
    }
   ],
   "source": [
    "#1.1\n",
    "#declaration of function\n",
    "def myreduce(mylist):\n",
    "    x=1\n",
    "    for i in mylist: #for loop to multiple elements of list together\n",
    "        x = x * i\n",
    "    return(x)\n",
    "\n",
    "list1= [3,7,12,9]  #create list of values\n",
    "y = myreduce(list1)\n",
    "print (y)"
   ]
  },
  {
   "cell_type": "code",
   "execution_count": null,
   "metadata": {},
   "outputs": [],
   "source": [
    "#1.2\n",
    "#declaration of filter function\n",
    "def myfilter(func1,mylist):\n",
    "    templist[]    #create temporary empty list\n",
    "    for i in mylist:  #for loop to send each item of list through custom function and add to a temporary list\n",
    "        templist.append(func1(i))\n",
    "    return(templist)\n",
    "\n",
    "#declare function to reference in myfilter, returns True on if x between 10-15\n",
    "def customfunc(x):\n",
    "    if x < 10:\n",
    "        return False\n",
    "    elif x > 15:\n",
    "        return False\n",
    "    else:\n",
    "        return True\n",
    "    \n",
    "mylist=]4,20,13,12,22]\n",
    "outputlist=]]\n",
    "outputlist.append(myfilter(customfunc,mylist))"
   ]
  },
  {
   "cell_type": "code",
   "execution_count": null,
   "metadata": {},
   "outputs": [],
   "source": [
    "#2\n"
   ]
  }
 ],
 "metadata": {
  "kernelspec": {
   "display_name": "Python 3",
   "language": "python",
   "name": "python3"
  },
  "language_info": {
   "codemirror_mode": {
    "name": "ipython",
    "version": 3
   },
   "file_extension": ".py",
   "mimetype": "text/x-python",
   "name": "python",
   "nbconvert_exporter": "python",
   "pygments_lexer": "ipython3",
   "version": "3.6.5"
  }
 },
 "nbformat": 4,
 "nbformat_minor": 2
}
